{
 "cells": [
  {
   "cell_type": "markdown",
   "id": "8a9913bf",
   "metadata": {},
   "source": [
    "\n",
    "# Лабораторна робота: Аналіз даних про втрати військової техніки та особового складу\n",
    "\n",
    "## Мета:\n",
    "Вивчити базові прийоми аналізу даних за допомогою pandas та візуалізації даних з matplotlib на реальних даних.\n",
    "\n",
    "## Завдання:\n",
    "1. Попередня обробка даних.\n",
    "2. Аналіз даних.\n",
    "3. Візуалізація даних.\n",
    "\n",
    "### Дані:\n",
    "- `russia_losses_equipment.csv` - дані про втрати техніки.\n",
    "- `russia_losses_equipment_correction.csv` - дані про корекції втрат техніки.\n",
    "- `russia_losses_personnel.csv` - дані про втрати особового складу.\n",
    "\n",
    "### Попередня обробка даних:\n",
    "- Завантажте дані за допомогою pandas.\n",
    "- Очистіть дані від відсутніх значень та дублікатів.\n",
    "- Виконайте перетворення даних.\n",
    "\n",
    "### Аналіз даних:\n",
    "- Розрахуйте основні статистичні показники.\n",
    "- Використайте групування для аналізу підгруп у даних.\n",
    "- Відсортуйте даних.\n",
    "\n",
    "### Візуалізація даних:\n",
    "- Візуалізуйте дані за допомогою matplotlib.\n"
   ]
  },
  {
   "cell_type": "code",
   "execution_count": null,
   "id": "00000ad1",
   "metadata": {},
   "outputs": [],
   "source": [
    "\n",
    "    # Завантаження та попередня обробка даних\n",
    "    import pandas as pd\n",
    "\n",
    "    corrections_df = pd.read_csv('task9/russia_losses_equipment_correction.csv')\n",
    "    equipment_df = pd.read_csv('task9/russia_losses_equipment.csv')\n",
    "    personnel_df = pd.read_csv('task9/russia_losses_personnel.csv')\n",
    "\n",
    "    equipment_df.set_index('date', inplace=True)\n",
    "    corrections_df.set_index('date', inplace=True)\n",
    "    personnel_df.set_index('date', inplace=True)\n",
    "\n",
    "    merged_data = equipment_df.combine_first(corrections_df).combine_first(personnel_df)\n",
    "    merged_data.reset_index(inplace=True)\n",
    "    merged_data = merged_data.drop_duplicates().fillna(0)\n",
    "    "
   ]
  },
  {
   "cell_type": "code",
   "execution_count": null,
   "id": "b87476c1",
   "metadata": {},
   "outputs": [],
   "source": [
    "\n",
    "    # Отримання загальної статистики\n",
    "    statistics = merged_data.describe()\n",
    "    print(statistics)\n",
    "\n",
    "    # Групування значення для аналізу підгрупи\n",
    "    grouped_by_tank = merged_data.groupby('tank').sum()\n",
    "    print(grouped_by_tank)\n",
    "\n",
    "    # Сортування даних\n",
    "    merged_data_sorted = merged_data.sort_values(by=\"APC\")\n",
    "    print(merged_data_sorted)\n",
    "    "
   ]
  },
  {
   "cell_type": "code",
   "execution_count": null,
   "id": "7d3e9344",
   "metadata": {},
   "outputs": [],
   "source": [
    "\n",
    "    # Візуалізація даних\n",
    "    import matplotlib.pyplot as plt\n",
    "\n",
    "    plt.plot(merged_data['date'], merged_data['tank'], label='Losses tank')\n",
    "    plt.xlabel('Date')\n",
    "    plt.ylabel('tank')\n",
    "    plt.title('Military Losses tank Over Time')\n",
    "    plt.legend() \n",
    "    plt.show()\n",
    "    "
   ]
  }
 ],
 "metadata": {
  "language_info": {
   "name": "python"
  }
 },
 "nbformat": 4,
 "nbformat_minor": 5
}
