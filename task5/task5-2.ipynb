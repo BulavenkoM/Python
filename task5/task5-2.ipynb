{
 "cells": [
  {
   "cell_type": "markdown",
   "id": "dee110cc",
   "metadata": {},
   "source": [
    "## Основне завдання: База даних автомобілів\n",
    "\n",
    "Ваше завдання — створити просту імпровізовану базу даних база даних автомобілів у форматі CSV. База даних повинна містити марка, модель, рік, колір.\n",
    "\n",
    "1. **Створення бази даних**: Створіть файл `база_даних_автомобілів.csv` та запишіть в нього заголовки для наступних полів: Марка, Модель, Рік, Колір.\n",
    "2. **Додавання записів**: Додайте інформацію про 5 автомобілів до файлу `база_даних_автомобілів.csv`.\n",
    "3. **Читання бази даних**: Прочитайте файл `база_даних_автомобілів.csv` та виведіть інформацію про всі автомобілі.\n",
    "4. (optional) **Пошук**: Прочитайте файл `база_даних_автомобілів.csv` та виведіть інформацію згідно з обраним критерієм (наприклад, рік випуску).\n",
    "5. **Оновлення записів**: Змініть одне з полів для одного автомобіля у файлі `база_даних_автомобілів.csv`.\n",
    "6. **Видалення запису**: Видаліть запис про один автомобіль з файлу `база_даних_автомобілів.csv`.\n",
    "7. (optional) **Сортування бази даних**: Сортуйте записи в файлі `база_даних_автомобілів.csv` за обраним критерієм.\n",
    "\n",
    "### Додаткове завдання на + бали\n",
    "\n",
    "1. **Статистика**: виведіть середній рік випуску для кожної марки.\n",
    "\n",
    "<img style=\"width: 60rem;\" src=\"https://i.ibb.co/2YN00F2/49a2128a-5470-4dd0-a717-62bc782d602d.webp\" alt=\"99fdaf80-8894-42f1-8ff4-a64219b33b9f\" border=\"0\"/>"
   ]
  },
  {
   "cell_type": "code",
   "execution_count": null,
   "id": "665affc4",
   "metadata": {},
   "outputs": [],
   "source": [
    "import csv\n",
    "\n",
    "#1\n",
    "with open('task5/база_даних_автомобілів.csv', 'w') as file:\n",
    "    columns = [\"brand\", \"model\", \"year\", \"color\"]\n",
    "    writer = csv.DictWriter(file, fieldnames=columns)\n",
    "    writer.writeheader()"
   ]
  },
  {
   "cell_type": "code",
   "execution_count": null,
   "id": "8976c11e",
   "metadata": {},
   "outputs": [],
   "source": [
    "#2\n",
    "with open('task5/база_даних_автомобілів.csv', 'a', newline='') as file:\n",
    "    columns = [\"brand\", \"model\", \"year\", \"color\"]\n",
    "    writer = csv.DictWriter(file, fieldnames=columns)\n",
    "    writer.writerows([\n",
    "        {'brand': \"BMW\", 'model': \"F52\", 'year': 2017, 'color': 'white'},\n",
    "        {'brand': \"Honda\", 'model': \"Brio\", 'year': 2011, 'color': 'yellow'},\n",
    "        {'brand': \"Hyundai\", 'model': \"Bayon\", 'year': 2021, 'color': 'white'},\n",
    "        {'brand': \"Kia\", 'model': \"K9\", 'year': 2012, 'color': 'black'},\n",
    "        {'brand': \"Volkswagen\", 'model': \"Golf\", 'year': 1974, 'color': 'grey'},\n",
    "    ])"
   ]
  },
  {
   "cell_type": "code",
   "execution_count": null,
   "id": "26e55bfc",
   "metadata": {},
   "outputs": [],
   "source": [
    "#3\n",
    "with open('task5/база_даних_автомобілів.csv','r') as file:\n",
    "    reader = csv.DictReader(file)\n",
    "    for row in reader:\n",
    "        print(row)"
   ]
  },
  {
   "cell_type": "code",
   "execution_count": null,
   "id": "6eb4f6d4",
   "metadata": {},
   "outputs": [],
   "source": [
    "#4\n",
    "with open('task5/база_даних_автомобілів.csv','r') as file:\n",
    "    reader = csv.DictReader(file)\n",
    "    criterion = input(\"Введіть критерій для пошуку (brand, model, year, color): \")\n",
    "    value = input(\"Введіть значення для пошуку: \")\n",
    "\n",
    "    if criterion in reader.fieldnames:\n",
    "        find = False\n",
    "        for row in reader:\n",
    "            if row[criterion] == value:\n",
    "                print(row)\n",
    "                find = True\n",
    "        if not find:\n",
    "            print('Такого значення немає у базі даних.')\n",
    "    else:\n",
    "        print('Такого критерію немає у базі даних.')"
   ]
  },
  {
   "cell_type": "code",
   "execution_count": null,
   "id": "736dfbfb",
   "metadata": {},
   "outputs": [],
   "source": [
    "#5\n",
    "cars = []\n",
    "with open('task5/база_даних_автомобілів.csv','r') as file:\n",
    "    reader = csv.DictReader(file)\n",
    "    for row in reader:\n",
    "        cars.append(row)\n",
    "    \n",
    "\n",
    "with open('task5/база_даних_автомобілів.csv','w') as file:\n",
    "    columns = [\"brand\", \"model\", \"year\", \"color\"]\n",
    "    writer = csv.DictWriter(file, fieldnames=columns)\n",
    "\n",
    "    criterion = input(\"Введіть критерій для заміни (brand, model, year, color): \")\n",
    "    value = input(\"Введіть значення: \")\n",
    "\n",
    "    cars[0][criterion] = value\n",
    "    writer.writeheader()\n",
    "    writer.writerows(cars)"
   ]
  },
  {
   "cell_type": "code",
   "execution_count": null,
   "id": "84436ab4",
   "metadata": {},
   "outputs": [],
   "source": [
    "#6\n",
    "cars = []\n",
    "with open('task5/база_даних_автомобілів.csv','r') as file:\n",
    "    reader = csv.DictReader(file)\n",
    "    for row in reader:\n",
    "        cars.append(row)\n",
    "    \n",
    "\n",
    "with open('task5/база_даних_автомобілів.csv','w') as file:\n",
    "    columns = [\"brand\", \"model\", \"year\", \"color\"]\n",
    "    writer = csv.DictWriter(file, fieldnames=columns)\n",
    "\n",
    "    criterion = input(\"Введіть критерій для видалення (brand, model, year, color): \")\n",
    "    value = input(\"Введіть значення: \")\n",
    "\n",
    "    for i in range(len(cars)):\n",
    "        if cars[i][criterion] == value:\n",
    "            cars.pop(i)\n",
    "            break\n",
    "        \n",
    "    writer.writeheader()\n",
    "    writer.writerows(cars)"
   ]
  },
  {
   "cell_type": "code",
   "execution_count": null,
   "id": "44b86106",
   "metadata": {},
   "outputs": [],
   "source": [
    "#7\n",
    "cars = []\n",
    "with open('task5/база_даних_автомобілів.csv','r') as file:\n",
    "    reader = csv.DictReader(file)\n",
    "    for row in reader:\n",
    "        cars.append(row)\n",
    "\n",
    "with open('task5/база_даних_автомобілів.csv','w') as file:\n",
    "    columns = [\"brand\", \"model\", \"year\", \"color\"]\n",
    "    writer = csv.DictWriter(file, fieldnames=columns)\n",
    "\n",
    "    criterion = input(\"Введіть критерій для сортування (brand, model, year, color): \")\n",
    "\n",
    "    cars.sort(key = lambda car: car[criterion])\n",
    "    writer.writeheader()\n",
    "    writer.writerows(cars)"
   ]
  }
 ],
 "metadata": {
  "language_info": {
   "name": "python"
  }
 },
 "nbformat": 4,
 "nbformat_minor": 5
}
