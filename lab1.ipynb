{
 "cells": [
  {
   "cell_type": "code",
   "execution_count": null,
   "metadata": {},
   "outputs": [],
   "source": [
    "# Завдання №1\n",
    "\n",
    "num1 = 5\n",
    "num2 = 2.5\n",
    "flag = True\n",
    "word = \"hello\"\n",
    "\n",
    "print(\"int =\",num1,\"\\n\",\"float =\",num2,\"\\n\",\"bool =\",flag,\"\\n\",\"string =\",word)"
   ]
  },
  {
   "cell_type": "code",
   "execution_count": null,
   "metadata": {},
   "outputs": [],
   "source": [
    "# Завдання №2\n",
    "\n",
    "num1 = int(input(\"Enter the first number\"))\n",
    "num2 = int(input(\"Enter the second number\"))\n",
    "\n",
    "print(\"Addition (+):\",num1+num2,\"\\n\",\"Subtraction (-):\",num1-num2,\"\\n\",\"Multiplication (*):\",num1*num2,\"\\n\",\"Division (/):\",num1/num2)"
   ]
  },
  {
   "cell_type": "code",
   "execution_count": null,
   "metadata": {},
   "outputs": [],
   "source": [
    "# Завдання №3\n",
    "from enum import Enum\n",
    "\n",
    "def formatNumber(num):\n",
    "    if num%1 == 0:\n",
    "        return int(num)\n",
    "    else:\n",
    "        return num\n",
    "\n",
    "class MenuOptions(int, Enum):\n",
    "    CALCULATOR = 1,\n",
    "    COMPARISON = 2,\n",
    "    CONVERTER = 3,\n",
    "    EXIT = 4\n",
    "\n",
    "menu = 0\n",
    "\n",
    "while(menu!=MenuOptions.EXIT):\n",
    "    menu = MenuOptions(int(input(\"1 - Calculator; 2 - Comparison; 3 - Converter; 4 - Exit\")))\n",
    "\n",
    "    if(menu==MenuOptions.CALCULATOR):\n",
    "        num1 = float(input(\"Enter the first number\"))\n",
    "        num2 = float(input(\"Enter the second number\"))\n",
    "        sign = str(input(\"Choose a sign(+, -, *, /)\"))\n",
    "\n",
    "        if(sign=='/' and num2==0):\n",
    "            print(\"Error. Cannot be divided by zero\")       \n",
    "        elif(sign=='-'):\n",
    "            print(formatNumber(num1-num2))     \n",
    "        elif(sign=='*'):\n",
    "            print(formatNumber(num1*num2))    \n",
    "        elif(sign=='+'):\n",
    "            print(formatNumber(num1+num2))    \n",
    "        elif(sign=='/' and num2!=0):\n",
    "            print(formatNumber(num1/num2))  \n",
    "        else:\n",
    "            print(\"Error. Invalid option. Please try again\")\n",
    "\n",
    "    elif(menu==MenuOptions.COMPARISON):\n",
    "        num1 = float(input(\"Enter the first number\"))\n",
    "        num2 = float(input(\"Enter the second number\"))\n",
    "\n",
    "        print(\"Comparing:\")\n",
    "        if(num1>num2):\n",
    "            print(formatNumber(num1),'>',formatNumber(num2))\n",
    "        elif(num1<num2):\n",
    "            print(formatNumber(num1),'<',formatNumber(num2))\n",
    "        else:\n",
    "            print(formatNumber(num1),'=',formatNumber(num2))\n",
    "\n",
    "    elif(menu==MenuOptions.CONVERTER):\n",
    "        num1 = float(input(\"Enter a float number\"))\n",
    "        num2 = int(input(\"Enter an int number\"))\n",
    "        \n",
    "        print(\"Float:\",num1,\"->\",\"Integer:\",int(num1))\n",
    "        print(\"Integer:\",num2,\"->\",\"Float:\",float(num2))\n",
    "\n",
    "    elif(menu==MenuOptions.EXIT):\n",
    "        print(\"End of the program\")\n",
    "\n",
    "    else:\n",
    "        print(\"Error. Invalid option. Please try again\")\n",
    "\n",
    "\n",
    "\n"
   ]
  }
 ],
 "metadata": {
  "kernelspec": {
   "display_name": "Python 3",
   "language": "python",
   "name": "python3"
  },
  "language_info": {
   "codemirror_mode": {
    "name": "ipython",
    "version": 3
   },
   "file_extension": ".py",
   "mimetype": "text/x-python",
   "name": "python",
   "nbconvert_exporter": "python",
   "pygments_lexer": "ipython3",
   "version": "3.11.2"
  },
  "orig_nbformat": 4
 },
 "nbformat": 4,
 "nbformat_minor": 2
}
